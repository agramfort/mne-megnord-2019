{
 "cells": [
  {
   "cell_type": "markdown",
   "metadata": {},
   "source": [
    "# The DICS beamformer\n",
    "\n",
    "[Dynamic Imaging of Coherent Sources (DICS)](https://www.pnas.org/content/98/2/694) is a beamformer that localizes oscillatory activity at a specific frequency (range). It is closely related to the LCMV beamformer, but operates in the time-frequency domain."
   ]
  },
  {
   "cell_type": "markdown",
   "metadata": {},
   "source": [
    "We start by downloading the \"somato\" dataset that ships with MNE-Python. This dataset contains some nice oscillatory signals for us to analyze. The median nerve of the participant was stimulated at the left wrist, so we expect to see some event-related synchronization (ERS) in the beta band (12-30 Hz.)"
   ]
  },
  {
   "cell_type": "code",
   "execution_count": null,
   "metadata": {},
   "outputs": [],
   "source": [
    "%matplotlib inline\n",
    "import numpy as np\n",
    "import mne\n",
    "data_path = mne.datasets.somato.data_path(verbose=True)"
   ]
  },
  {
   "cell_type": "markdown",
   "metadata": {},
   "source": [
    "## Sensor space analysis"
   ]
  },
  {
   "cell_type": "markdown",
   "metadata": {},
   "source": [
    "Reading the raw data should look familiar. We save some memory by restricting our analysis to gradiometers only. Unfortunately, the DICS implementation in MNE-Python doesn't support mixing channel types yet."
   ]
  },
  {
   "cell_type": "code",
   "execution_count": null,
   "metadata": {},
   "outputs": [],
   "source": [
    "raw = mne.io.read_raw_fif(data_path + '/MEG/somato/sef_raw_sss.fif', preload=True)\n",
    "raw = raw.pick_types(meg='grad', stim=True)"
   ]
  },
  {
   "cell_type": "markdown",
   "metadata": {},
   "source": [
    "Constructing epochs. There is only one event (id=1) in the dataset. We use a generous time window surrounding the event."
   ]
  },
  {
   "cell_type": "code",
   "execution_count": null,
   "metadata": {},
   "outputs": [],
   "source": [
    "events = mne.find_events(raw)\n",
    "epochs = mne.Epochs(raw, events, event_id=1, tmin=-1, tmax=3, preload=True)"
   ]
  },
  {
   "cell_type": "markdown",
   "metadata": {},
   "source": [
    "Let's start our analysis by visualizing the time-frequency spectrum, i.e. the frequency content of the signal over time. MNE-Python supports three ways to compute this (short-time fourier transform, multitapers, and Morlet wavelets). In the demo, I'm going to use wavelets.\n",
    "\n",
    "When using wavelets, you have to specify the exact frequencies you are interested in analysing. Since we're interested in the beta band, we define our frequencies from 12 to 30 Hz, spaced out using a logarithmic scale."
   ]
  },
  {
   "cell_type": "code",
   "execution_count": null,
   "metadata": {},
   "outputs": [],
   "source": [
    "# Frequencies of interest\n",
    "freqs = np.logspace(np.log10(12), np.log10(30), 9)\n",
    "print(freqs)"
   ]
  },
  {
   "cell_type": "markdown",
   "metadata": {},
   "source": [
    "Let's compute the time-frequency decomposition of the signal!"
   ]
  },
  {
   "cell_type": "code",
   "execution_count": null,
   "metadata": {},
   "outputs": [],
   "source": [
    "power, itc = mne.time_frequency.tfr_morlet(epochs, freqs=freqs, n_cycles=5, decim=10, n_jobs=2, verbose=True)"
   ]
  },
  {
   "cell_type": "markdown",
   "metadata": {},
   "source": [
    "The [`plot_topo`](https://martinos.org/mne/stable/generated/mne.time_frequency.AverageTFR.html#mne.time_frequency.AverageTFR.plot_topo) method of the resulting [`AverageTFR`](https://martinos.org/mne/stable/generated/mne.time_frequency.AverageTFR.html#mne.time_frequency.AverageTFR) object provides a nice interactive visualization for us to explore.\n",
    "\n",
    "We are usually interested in the relative *change in power* between some baseline period and what follows. For example, ERS is defined as an increase in power, relative to the baseline. Hence, we specify the baseline period in the plotting function and set it to `'logratio'` mode (plotting the log of the ratio of the post-baseline power versus the baseline)."
   ]
  },
  {
   "cell_type": "code",
   "execution_count": null,
   "metadata": {},
   "outputs": [],
   "source": [
    "power.plot_topo(baseline=(-1, 0), mode='logratio', title='Average power')"
   ]
  },
  {
   "cell_type": "markdown",
   "metadata": {},
   "source": [
    "## Source level analysis"
   ]
  },
  {
   "cell_type": "markdown",
   "metadata": {},
   "source": [
    "We use the DICS beamformer to localize the source of the increase in beta activity. Like the first step for the LCMV beamformer was to compute a covariance matrix, the first step for DICS is to compute the cross-spectral density (CSD) matrix. It is the time-frequency equivalent of the covariance matrix.\n",
    "\n",
    "As with the time-frequency decomposition earlier, we will use Morlet wavelets to compute the CSD."
   ]
  },
  {
   "cell_type": "code",
   "execution_count": null,
   "metadata": {},
   "outputs": [],
   "source": [
    "csd = mne.time_frequency.csd_morlet(epochs, freqs, tmin=-1, tmax=1.5, decim=10, n_jobs=2)"
   ]
  },
  {
   "cell_type": "markdown",
   "metadata": {},
   "source": [
    "The CSD is computed for all the frequencies we defined earlier:"
   ]
  },
  {
   "cell_type": "code",
   "execution_count": null,
   "metadata": {},
   "outputs": [],
   "source": [
    "csd.plot()"
   ]
  },
  {
   "cell_type": "markdown",
   "metadata": {},
   "source": [
    "We can average across frequencies to obtain the CSD for a frequency *band*:"
   ]
  },
  {
   "cell_type": "code",
   "execution_count": null,
   "metadata": {},
   "outputs": [],
   "source": [
    "csd.mean(12, 30).plot()"
   ]
  },
  {
   "cell_type": "markdown",
   "metadata": {},
   "source": [
    "Loading the forward model for this dataset:"
   ]
  },
  {
   "cell_type": "code",
   "execution_count": null,
   "metadata": {},
   "outputs": [],
   "source": [
    "fwd = mne.read_forward_solution(data_path + '/MEG/somato/somato-meg-oct-6-fwd.fif')"
   ]
  },
  {
   "cell_type": "markdown",
   "metadata": {},
   "source": [
    "We are ready to compute the DICS spatial filters. We compute the filters using the forward model and the CSD."
   ]
  },
  {
   "cell_type": "code",
   "execution_count": null,
   "metadata": {},
   "outputs": [],
   "source": [
    "dics = mne.beamformer.make_dics(epochs.info, fwd, csd.mean(), pick_ori='max-power')"
   ]
  },
  {
   "cell_type": "markdown",
   "metadata": {},
   "source": [
    "Now, the API with separate functions for `make_dics` and `apply_dics` comes into play: We have created the DICS spatial filters using a CSD that was computed across the entire time range. However, we want to make a contrast between the power before and after the stimulus onset.\n",
    "\n",
    "So, we apply the beamformer to two distinct CSD matrices that we're going to compute for different time ranges."
   ]
  },
  {
   "cell_type": "code",
   "execution_count": null,
   "metadata": {},
   "outputs": [],
   "source": [
    "# Compute CSDs for two time intervals\n",
    "# baseline:\n",
    "csd_baseline = mne.time_frequency.csd_morlet(epochs, freqs, tmin=-1, tmax=0, decim=10, n_jobs=2)\n",
    "# after stimulation:\n",
    "csd_ers = mne.time_frequency.csd_morlet(epochs, freqs, tmin=0.5, tmax=1.5, decim=10, n_jobs=2)"
   ]
  },
  {
   "cell_type": "code",
   "execution_count": null,
   "metadata": {},
   "outputs": [],
   "source": [
    "# Apply the DICS filters to the CSD matrices to obtain source power estimates\n",
    "baseline_source_power, freqs = mne.beamformer.apply_dics_csd(csd_baseline.mean(), dics) \n",
    "beta_source_power, freqs = mne.beamformer.apply_dics_csd(csd_ers.mean(), dics)"
   ]
  },
  {
   "cell_type": "markdown",
   "metadata": {},
   "source": [
    "What we are interested in is the relative change in power:"
   ]
  },
  {
   "cell_type": "code",
   "execution_count": null,
   "metadata": {},
   "outputs": [],
   "source": [
    "%matplotlib qt\n",
    "relative_source_power = beta_source_power / baseline_source_power\n",
    "relative_source_power.plot(hemi='both', subjects_dir=data_path + '/subjects', views='par')"
   ]
  },
  {
   "cell_type": "markdown",
   "metadata": {},
   "source": [
    "Stimulating the medial nerve of the left arm generates an increase in beta activity on the motor cortex in the right hemisphere.\n",
    "\n",
    "<img src=\"images/ers.png\" width=\"400\">"
   ]
  }
 ],
 "metadata": {
  "kernelspec": {
   "display_name": "Python 3",
   "language": "python",
   "name": "python3"
  },
  "language_info": {
   "codemirror_mode": {
    "name": "ipython",
    "version": 3
   },
   "file_extension": ".py",
   "mimetype": "text/x-python",
   "name": "python",
   "nbconvert_exporter": "python",
   "pygments_lexer": "ipython3",
   "version": "3.6.8"
  }
 },
 "nbformat": 4,
 "nbformat_minor": 2
}
