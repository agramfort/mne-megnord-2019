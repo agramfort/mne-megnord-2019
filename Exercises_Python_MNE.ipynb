{
 "cells": [
  {
   "cell_type": "markdown",
   "metadata": {},
   "source": [
    "# Exercise\n",
    "\n",
    "Author: Alexandre Gramfort\n",
    "\n",
    "We'll use Python to explore the content of the MNE-sample-data folder"
   ]
  },
  {
   "cell_type": "code",
   "execution_count": 1,
   "metadata": {},
   "outputs": [],
   "source": [
    "from __future__ import print_function"
   ]
  },
  {
   "cell_type": "code",
   "execution_count": 2,
   "metadata": {},
   "outputs": [
    {
     "name": "stdout",
     "output_type": "stream",
     "text": [
      "/Users/alex/mne_data/MNE-sample-data\n"
     ]
    }
   ],
   "source": [
    "from mne.datasets import sample\n",
    "\n",
    "data_path = sample.data_path()\n",
    "print(data_path)"
   ]
  },
  {
   "cell_type": "code",
   "execution_count": 3,
   "metadata": {},
   "outputs": [
    {
     "name": "stdout",
     "output_type": "stream",
     "text": [
      "['/Users/alex/mne_data/MNE-sample-data/MEG/sample/all-trans.fif', '/Users/alex/mne_data/MNE-sample-data/MEG/sample/ernoise-cov.fif', '/Users/alex/mne_data/MNE-sample-data/MEG/sample/ernoise_raw-eve.fif', '/Users/alex/mne_data/MNE-sample-data/MEG/sample/ernoise_raw.fif', '/Users/alex/mne_data/MNE-sample-data/MEG/sample/sample-epo.fif', '/Users/alex/mne_data/MNE-sample-data/MEG/sample/sample_audvis-ave.fif', '/Users/alex/mne_data/MNE-sample-data/MEG/sample/sample_audvis-cov.fif', '/Users/alex/mne_data/MNE-sample-data/MEG/sample/sample_audvis-eeg-oct-6-eeg-inv.fif', '/Users/alex/mne_data/MNE-sample-data/MEG/sample/sample_audvis-eeg-oct-6-fwd.fif', '/Users/alex/mne_data/MNE-sample-data/MEG/sample/sample_audvis-eeg-oct-6p-fwd.fif', '/Users/alex/mne_data/MNE-sample-data/MEG/sample/sample_audvis-meeg-oct-5-fwd.fif', '/Users/alex/mne_data/MNE-sample-data/MEG/sample/sample_audvis-meg-eeg-oct-3-fwd.fif', '/Users/alex/mne_data/MNE-sample-data/MEG/sample/sample_audvis-meg-eeg-oct-6-fwd.fif', '/Users/alex/mne_data/MNE-sample-data/MEG/sample/sample_audvis-meg-eeg-oct-6-meg-eeg-diagnoise-inv.fif', '/Users/alex/mne_data/MNE-sample-data/MEG/sample/sample_audvis-meg-eeg-oct-6-meg-eeg-inv.fif', '/Users/alex/mne_data/MNE-sample-data/MEG/sample/sample_audvis-meg-oct-6-fwd.fif', '/Users/alex/mne_data/MNE-sample-data/MEG/sample/sample_audvis-meg-oct-6-meg-diagnoise-inv.fif', '/Users/alex/mne_data/MNE-sample-data/MEG/sample/sample_audvis-meg-oct-6-meg-fixed-inv.fif', '/Users/alex/mne_data/MNE-sample-data/MEG/sample/sample_audvis-meg-oct-6-meg-inv.fif', '/Users/alex/mne_data/MNE-sample-data/MEG/sample/sample_audvis-meg-oct-6-meg-nodepth-fixed-inv.fif', '/Users/alex/mne_data/MNE-sample-data/MEG/sample/sample_audvis-meg-oct-6-mixed-fwd.fif', '/Users/alex/mne_data/MNE-sample-data/MEG/sample/sample_audvis-meg-vol-7-fwd.fif', '/Users/alex/mne_data/MNE-sample-data/MEG/sample/sample_audvis-meg-vol-7-meg-inv.fif', '/Users/alex/mne_data/MNE-sample-data/MEG/sample/sample_audvis-no-filter-ave.fif', '/Users/alex/mne_data/MNE-sample-data/MEG/sample/sample_audvis-shrunk-cov.fif', '/Users/alex/mne_data/MNE-sample-data/MEG/sample/sample_audvis_ecg-eve.fif', '/Users/alex/mne_data/MNE-sample-data/MEG/sample/sample_audvis_ecg-proj.fif', '/Users/alex/mne_data/MNE-sample-data/MEG/sample/sample_audvis_eog-eve.fif', '/Users/alex/mne_data/MNE-sample-data/MEG/sample/sample_audvis_eog-proj.fif', '/Users/alex/mne_data/MNE-sample-data/MEG/sample/sample_audvis_filt-0-40_raw-eve.fif', '/Users/alex/mne_data/MNE-sample-data/MEG/sample/sample_audvis_filt-0-40_raw.fif', '/Users/alex/mne_data/MNE-sample-data/MEG/sample/sample_audvis_filt_filt_sss_raw.fif', '/Users/alex/mne_data/MNE-sample-data/MEG/sample/sample_audvis_filt_raw.fif', '/Users/alex/mne_data/MNE-sample-data/MEG/sample/sample_audvis_filt_sss_raw-eve.fif', '/Users/alex/mne_data/MNE-sample-data/MEG/sample/sample_audvis_filt_sss_raw.fif', '/Users/alex/mne_data/MNE-sample-data/MEG/sample/sample_audvis_raw-eve.fif', '/Users/alex/mne_data/MNE-sample-data/MEG/sample/sample_audvis_raw-trans.fif', '/Users/alex/mne_data/MNE-sample-data/MEG/sample/sample_audvis_raw.fif']\n"
     ]
    }
   ],
   "source": [
    "import glob\n",
    "\n",
    "fif_files = glob.glob(data_path + '/MEG/sample/' + '*.fif')\n",
    "print(fif_files)"
   ]
  },
  {
   "cell_type": "markdown",
   "metadata": {},
   "source": [
    "# Questions\n",
    "\n",
    "- What is the type of the variable `fif_files` ?\n",
    "- Sort inplace the content of `fif_files`\n",
    "- What is the length of `fif_files` ?\n",
    "- How many files are raw files (end with `raw.fif`) ?\n",
    "- Create a new list restricted to the files of type raw?"
   ]
  },
  {
   "cell_type": "code",
   "execution_count": null,
   "metadata": {},
   "outputs": [],
   "source": []
  },
  {
   "cell_type": "code",
   "execution_count": 4,
   "metadata": {},
   "outputs": [
    {
     "name": "stdout",
     "output_type": "stream",
     "text": [
      "/Users/alex/mne_data/MNE-sample-data/subjects/sample/surf\n"
     ]
    }
   ],
   "source": [
    "subjects_dir = data_path + '/subjects'\n",
    "subject = 'sample'\n",
    "surf_dir = subjects_dir + \"/\" + subject + '/surf'\n",
    "print(surf_dir)"
   ]
  },
  {
   "cell_type": "markdown",
   "metadata": {},
   "source": [
    "# Questions\n",
    "\n",
    "- How many files is there in the folder `surf_dir` ?\n",
    "- How many files have a name that starts with `lh`?"
   ]
  },
  {
   "cell_type": "code",
   "execution_count": null,
   "metadata": {
    "collapsed": true
   },
   "outputs": [],
   "source": []
  }
 ],
 "metadata": {
  "kernelspec": {
   "display_name": "Python 3",
   "language": "python",
   "name": "python3"
  },
  "language_info": {
   "codemirror_mode": {
    "name": "ipython",
    "version": 3
   },
   "file_extension": ".py",
   "mimetype": "text/x-python",
   "name": "python",
   "nbconvert_exporter": "python",
   "pygments_lexer": "ipython3",
   "version": "3.6.7"
  }
 },
 "nbformat": 4,
 "nbformat_minor": 1
}
