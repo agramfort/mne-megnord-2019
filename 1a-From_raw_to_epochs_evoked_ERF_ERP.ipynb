{
 "cells": [
  {
   "cell_type": "markdown",
   "metadata": {},
   "source": [
    "# MNE : From raw data to epochs and evoked responses (ERF/ERP)\n",
    "\n",
    "`\n",
    "Authors:\n",
    "Alexandre Gramfort\n",
    "Denis A. Engemann\n",
    "Jona Sassenhagen\n",
    "`"
   ]
  },
  {
   "cell_type": "code",
   "execution_count": 1,
   "metadata": {
    "collapsed": true
   },
   "outputs": [],
   "source": [
    "import numpy as np\n",
    "import matplotlib as mpl\n",
    "import matplotlib.pyplot as plt"
   ]
  },
  {
   "cell_type": "markdown",
   "metadata": {},
   "source": [
    "First, load the mne package:"
   ]
  },
  {
   "cell_type": "code",
   "execution_count": 2,
   "metadata": {
    "collapsed": true
   },
   "outputs": [],
   "source": [
    "import mne"
   ]
  },
  {
   "cell_type": "markdown",
   "metadata": {},
   "source": [
    "We set the log-level to 'warning' so the output is less verbose"
   ]
  },
  {
   "cell_type": "code",
   "execution_count": 3,
   "metadata": {
    "collapsed": true
   },
   "outputs": [],
   "source": [
    "mne.set_log_level('warning')"
   ]
  },
  {
   "cell_type": "markdown",
   "metadata": {},
   "source": [
    "### Remember if you need help just ask... the machine"
   ]
  },
  {
   "cell_type": "code",
   "execution_count": 4,
   "metadata": {
    "collapsed": true
   },
   "outputs": [],
   "source": [
    "mne.pick_types?"
   ]
  },
  {
   "cell_type": "markdown",
   "metadata": {},
   "source": [
    "## Access raw data"
   ]
  },
  {
   "cell_type": "markdown",
   "metadata": {},
   "source": [
    "Now we import the sample dataset.\n",
    "\n",
    "You should already have it but if you don't it will be downloaded automatically (but be patient approx. 2GB)"
   ]
  },
  {
   "cell_type": "code",
   "execution_count": 5,
   "metadata": {
    "collapsed": true
   },
   "outputs": [],
   "source": [
    "from mne.datasets import sample\n",
    "# also explore other datasets, e.g. mne.datasets.XXX\n",
    "data_path = sample.data_path()\n",
    "# data_path = '/Users/alex/mne_data/MNE-sample-data'  # change to location of the data or use line above to download automatically\n",
    "\n",
    "raw_fname = data_path + '/MEG/sample/sample_audvis_filt-0-40_raw.fif'"
   ]
  },
  {
   "cell_type": "code",
   "execution_count": 6,
   "metadata": {
    "collapsed": false
   },
   "outputs": [
    {
     "name": "stdout",
     "output_type": "stream",
     "text": [
      "/Users/rodin/BRU/mne-python/examples/MNE-sample-data/MEG/sample/sample_audvis_filt-0-40_raw.fif\n"
     ]
    }
   ],
   "source": [
    "print(raw_fname)"
   ]
  },
  {
   "cell_type": "markdown",
   "metadata": {},
   "source": [
    "Read data from file:"
   ]
  },
  {
   "cell_type": "code",
   "execution_count": 7,
   "metadata": {
    "collapsed": false
   },
   "outputs": [
    {
     "name": "stdout",
     "output_type": "stream",
     "text": [
      "<Raw  |  sample_audvis_filt-0-40_raw.fif, n_channels x n_times : 376 x 41700 (277.7 sec), ~3.6 MB, data not loaded>\n"
     ]
    }
   ],
   "source": [
    "raw = mne.io.read_raw_fif(raw_fname, preload=False)\n",
    "print(raw)"
   ]
  },
  {
   "cell_type": "markdown",
   "metadata": {},
   "source": [
    "Note the `preload=False` which states that no data is actually in memory.\n",
    "\n",
    "For more details about IO of different file formats see [IO with MNE](http://martinos.org/mne/dev/manual/io.html)\n",
    "\n",
    "Now let's look at the measurement info. It will give details about:\n",
    "\n",
    "   - sampling rate\n",
    "   - filtering parameters\n",
    "   - available channel types\n",
    "   - bad channels\n",
    "   - etc."
   ]
  },
  {
   "cell_type": "code",
   "execution_count": 8,
   "metadata": {
    "collapsed": false
   },
   "outputs": [
    {
     "name": "stdout",
     "output_type": "stream",
     "text": [
      "<Info | 19 non-empty fields\n",
      "    bads : list | MEG 2443, EEG 053\n",
      "    ch_names : list | MEG 0113, MEG 0112, MEG 0111, MEG 0122, MEG 0123, ...\n",
      "    chs : list | 376 items (GRAD: 204, MAG: 102, STIM: 9, EEG: 60, EOG: 1)\n",
      "    comps : list | 0 items\n",
      "    custom_ref_applied : bool | False\n",
      "    dev_head_t : Transform | 3 items\n",
      "    dig : list | 146 items (3 Cardinal, 4 HPI, 61 EEG, 78 Extra)\n",
      "    events : list | 0 items\n",
      "    file_id : dict | 4 items\n",
      "    highpass : float | 0.10000000149011612 Hz\n",
      "    hpi_meas : list | 1 items\n",
      "    hpi_results : list | 1 items\n",
      "    lowpass : float | 40.0 Hz\n",
      "    meas_date : tuple | 2002-12-03 19:01:10 GMT\n",
      "    meas_id : dict | 4 items\n",
      "    nchan : int | 376\n",
      "    proc_history : list | 0 items\n",
      "    projs : list | PCA-v1: off, PCA-v2: off, PCA-v3: off, ...\n",
      "    sfreq : float | 150.15374755859375 Hz\n",
      "    acq_pars : NoneType\n",
      "    acq_stim : NoneType\n",
      "    ctf_head_t : NoneType\n",
      "    description : NoneType\n",
      "    dev_ctf_t : NoneType\n",
      "    experimenter : NoneType\n",
      "    gantry_angle : NoneType\n",
      "    hpi_subsystem : NoneType\n",
      "    kit_system_id : NoneType\n",
      "    line_freq : NoneType\n",
      "    proj_id : NoneType\n",
      "    proj_name : NoneType\n",
      "    subject_info : NoneType\n",
      "    xplotter_layout : NoneType\n",
      ">\n"
     ]
    }
   ],
   "source": [
    "print(raw.info)"
   ]
  },
  {
   "cell_type": "markdown",
   "metadata": {},
   "source": [
    "raw.info is just a dictionary:"
   ]
  },
  {
   "cell_type": "code",
   "execution_count": 9,
   "metadata": {
    "collapsed": false
   },
   "outputs": [
    {
     "data": {
      "text/plain": [
       "True"
      ]
     },
     "execution_count": 9,
     "metadata": {},
     "output_type": "execute_result"
    }
   ],
   "source": [
    "isinstance(raw.info, dict)"
   ]
  },
  {
   "cell_type": "markdown",
   "metadata": {},
   "source": [
    "So we can access its elements this way:"
   ]
  },
  {
   "cell_type": "code",
   "execution_count": 10,
   "metadata": {
    "collapsed": false
   },
   "outputs": [
    {
     "data": {
      "text/plain": [
       "150.15374755859375"
      ]
     },
     "execution_count": 10,
     "metadata": {},
     "output_type": "execute_result"
    }
   ],
   "source": [
    "raw.info['sfreq']  # Sampling frequency"
   ]
  },
  {
   "cell_type": "code",
   "execution_count": 11,
   "metadata": {
    "collapsed": false
   },
   "outputs": [
    {
     "data": {
      "text/plain": [
       "['MEG 2443', 'EEG 053']"
      ]
     },
     "execution_count": 11,
     "metadata": {},
     "output_type": "execute_result"
    }
   ],
   "source": [
    "raw.info['bads']  # list of marked bad channels"
   ]
  },
  {
   "cell_type": "markdown",
   "metadata": {},
   "source": [
    "Next let's see what channels are present. It is available via the `raw.ch_names` attribute."
   ]
  },
  {
   "cell_type": "code",
   "execution_count": 12,
   "metadata": {
    "collapsed": false
   },
   "outputs": [
    {
     "data": {
      "text/plain": [
       "['MEG 0113',\n",
       " 'MEG 0112',\n",
       " 'MEG 0111',\n",
       " 'MEG 0122',\n",
       " 'MEG 0123',\n",
       " 'MEG 0121',\n",
       " 'MEG 0132',\n",
       " 'MEG 0133',\n",
       " 'MEG 0131',\n",
       " 'MEG 0143',\n",
       " 'MEG 0142',\n",
       " 'MEG 0141',\n",
       " 'MEG 0213',\n",
       " 'MEG 0212',\n",
       " 'MEG 0211',\n",
       " 'MEG 0222',\n",
       " 'MEG 0223',\n",
       " 'MEG 0221',\n",
       " 'MEG 0232',\n",
       " 'MEG 0233',\n",
       " 'MEG 0231',\n",
       " 'MEG 0243',\n",
       " 'MEG 0242',\n",
       " 'MEG 0241',\n",
       " 'MEG 0313',\n",
       " 'MEG 0312',\n",
       " 'MEG 0311',\n",
       " 'MEG 0322',\n",
       " 'MEG 0323',\n",
       " 'MEG 0321',\n",
       " 'MEG 0333',\n",
       " 'MEG 0332',\n",
       " 'MEG 0331',\n",
       " 'MEG 0343',\n",
       " 'MEG 0342',\n",
       " 'MEG 0341',\n",
       " 'MEG 0413',\n",
       " 'MEG 0412',\n",
       " 'MEG 0411',\n",
       " 'MEG 0422',\n",
       " 'MEG 0423',\n",
       " 'MEG 0421',\n",
       " 'MEG 0432',\n",
       " 'MEG 0433',\n",
       " 'MEG 0431',\n",
       " 'MEG 0443',\n",
       " 'MEG 0442',\n",
       " 'MEG 0441',\n",
       " 'MEG 0513',\n",
       " 'MEG 0512',\n",
       " 'MEG 0511',\n",
       " 'MEG 0523',\n",
       " 'MEG 0522',\n",
       " 'MEG 0521',\n",
       " 'MEG 0532',\n",
       " 'MEG 0533',\n",
       " 'MEG 0531',\n",
       " 'MEG 0542',\n",
       " 'MEG 0543',\n",
       " 'MEG 0541',\n",
       " 'MEG 0613',\n",
       " 'MEG 0612',\n",
       " 'MEG 0611',\n",
       " 'MEG 0622',\n",
       " 'MEG 0623',\n",
       " 'MEG 0621',\n",
       " 'MEG 0633',\n",
       " 'MEG 0632',\n",
       " 'MEG 0631',\n",
       " 'MEG 0642',\n",
       " 'MEG 0643',\n",
       " 'MEG 0641',\n",
       " 'MEG 0713',\n",
       " 'MEG 0712',\n",
       " 'MEG 0711',\n",
       " 'MEG 0723',\n",
       " 'MEG 0722',\n",
       " 'MEG 0721',\n",
       " 'MEG 0733',\n",
       " 'MEG 0732',\n",
       " 'MEG 0731',\n",
       " 'MEG 0743',\n",
       " 'MEG 0742',\n",
       " 'MEG 0741',\n",
       " 'MEG 0813',\n",
       " 'MEG 0812',\n",
       " 'MEG 0811',\n",
       " 'MEG 0822',\n",
       " 'MEG 0823',\n",
       " 'MEG 0821',\n",
       " 'MEG 0913',\n",
       " 'MEG 0912',\n",
       " 'MEG 0911',\n",
       " 'MEG 0923',\n",
       " 'MEG 0922',\n",
       " 'MEG 0921',\n",
       " 'MEG 0932',\n",
       " 'MEG 0933',\n",
       " 'MEG 0931',\n",
       " 'MEG 0942',\n",
       " 'MEG 0943',\n",
       " 'MEG 0941',\n",
       " 'MEG 1013',\n",
       " 'MEG 1012',\n",
       " 'MEG 1011',\n",
       " 'MEG 1023',\n",
       " 'MEG 1022',\n",
       " 'MEG 1021',\n",
       " 'MEG 1032',\n",
       " 'MEG 1033',\n",
       " 'MEG 1031',\n",
       " 'MEG 1043',\n",
       " 'MEG 1042',\n",
       " 'MEG 1041',\n",
       " 'MEG 1112',\n",
       " 'MEG 1113',\n",
       " 'MEG 1111',\n",
       " 'MEG 1123',\n",
       " 'MEG 1122',\n",
       " 'MEG 1121',\n",
       " 'MEG 1133',\n",
       " 'MEG 1132',\n",
       " 'MEG 1131',\n",
       " 'MEG 1142',\n",
       " 'MEG 1143',\n",
       " 'MEG 1141',\n",
       " 'MEG 1213',\n",
       " 'MEG 1212',\n",
       " 'MEG 1211',\n",
       " 'MEG 1223',\n",
       " 'MEG 1222',\n",
       " 'MEG 1221',\n",
       " 'MEG 1232',\n",
       " 'MEG 1233',\n",
       " 'MEG 1231',\n",
       " 'MEG 1243',\n",
       " 'MEG 1242',\n",
       " 'MEG 1241',\n",
       " 'MEG 1312',\n",
       " 'MEG 1313',\n",
       " 'MEG 1311',\n",
       " 'MEG 1323',\n",
       " 'MEG 1322',\n",
       " 'MEG 1321',\n",
       " 'MEG 1333',\n",
       " 'MEG 1332',\n",
       " 'MEG 1331',\n",
       " 'MEG 1342',\n",
       " 'MEG 1343',\n",
       " 'MEG 1341',\n",
       " 'MEG 1412',\n",
       " 'MEG 1413',\n",
       " 'MEG 1411',\n",
       " 'MEG 1423',\n",
       " 'MEG 1422',\n",
       " 'MEG 1421',\n",
       " 'MEG 1433',\n",
       " 'MEG 1432',\n",
       " 'MEG 1431',\n",
       " 'MEG 1442',\n",
       " 'MEG 1443',\n",
       " 'MEG 1441',\n",
       " 'MEG 1512',\n",
       " 'MEG 1513',\n",
       " 'MEG 1511',\n",
       " 'MEG 1522',\n",
       " 'MEG 1523',\n",
       " 'MEG 1521',\n",
       " 'MEG 1533',\n",
       " 'MEG 1532',\n",
       " 'MEG 1531',\n",
       " 'MEG 1543',\n",
       " 'MEG 1542',\n",
       " 'MEG 1541',\n",
       " 'MEG 1613',\n",
       " 'MEG 1612',\n",
       " 'MEG 1611',\n",
       " 'MEG 1622',\n",
       " 'MEG 1623',\n",
       " 'MEG 1621',\n",
       " 'MEG 1632',\n",
       " 'MEG 1633',\n",
       " 'MEG 1631',\n",
       " 'MEG 1643',\n",
       " 'MEG 1642',\n",
       " 'MEG 1641',\n",
       " 'MEG 1713',\n",
       " 'MEG 1712',\n",
       " 'MEG 1711',\n",
       " 'MEG 1722',\n",
       " 'MEG 1723',\n",
       " 'MEG 1721',\n",
       " 'MEG 1732',\n",
       " 'MEG 1733',\n",
       " 'MEG 1731',\n",
       " 'MEG 1743',\n",
       " 'MEG 1742',\n",
       " 'MEG 1741',\n",
       " 'MEG 1813',\n",
       " 'MEG 1812',\n",
       " 'MEG 1811',\n",
       " 'MEG 1822',\n",
       " 'MEG 1823',\n",
       " 'MEG 1821',\n",
       " 'MEG 1832',\n",
       " 'MEG 1833',\n",
       " 'MEG 1831',\n",
       " 'MEG 1843',\n",
       " 'MEG 1842',\n",
       " 'MEG 1841',\n",
       " 'MEG 1912',\n",
       " 'MEG 1913',\n",
       " 'MEG 1911',\n",
       " 'MEG 1923',\n",
       " 'MEG 1922',\n",
       " 'MEG 1921',\n",
       " 'MEG 1932',\n",
       " 'MEG 1933',\n",
       " 'MEG 1931',\n",
       " 'MEG 1943',\n",
       " 'MEG 1942',\n",
       " 'MEG 1941',\n",
       " 'MEG 2013',\n",
       " 'MEG 2012',\n",
       " 'MEG 2011',\n",
       " 'MEG 2023',\n",
       " 'MEG 2022',\n",
       " 'MEG 2021',\n",
       " 'MEG 2032',\n",
       " 'MEG 2033',\n",
       " 'MEG 2031',\n",
       " 'MEG 2042',\n",
       " 'MEG 2043',\n",
       " 'MEG 2041',\n",
       " 'MEG 2113',\n",
       " 'MEG 2112',\n",
       " 'MEG 2111',\n",
       " 'MEG 2122',\n",
       " 'MEG 2123',\n",
       " 'MEG 2121',\n",
       " 'MEG 2133',\n",
       " 'MEG 2132',\n",
       " 'MEG 2131',\n",
       " 'MEG 2143',\n",
       " 'MEG 2142',\n",
       " 'MEG 2141',\n",
       " 'MEG 2212',\n",
       " 'MEG 2213',\n",
       " 'MEG 2211',\n",
       " 'MEG 2223',\n",
       " 'MEG 2222',\n",
       " 'MEG 2221',\n",
       " 'MEG 2233',\n",
       " 'MEG 2232',\n",
       " 'MEG 2231',\n",
       " 'MEG 2242',\n",
       " 'MEG 2243',\n",
       " 'MEG 2241',\n",
       " 'MEG 2312',\n",
       " 'MEG 2313',\n",
       " 'MEG 2311',\n",
       " 'MEG 2323',\n",
       " 'MEG 2322',\n",
       " 'MEG 2321',\n",
       " 'MEG 2332',\n",
       " 'MEG 2333',\n",
       " 'MEG 2331',\n",
       " 'MEG 2343',\n",
       " 'MEG 2342',\n",
       " 'MEG 2341',\n",
       " 'MEG 2412',\n",
       " 'MEG 2413',\n",
       " 'MEG 2411',\n",
       " 'MEG 2423',\n",
       " 'MEG 2422',\n",
       " 'MEG 2421',\n",
       " 'MEG 2433',\n",
       " 'MEG 2432',\n",
       " 'MEG 2431',\n",
       " 'MEG 2442',\n",
       " 'MEG 2443',\n",
       " 'MEG 2441',\n",
       " 'MEG 2512',\n",
       " 'MEG 2513',\n",
       " 'MEG 2511',\n",
       " 'MEG 2522',\n",
       " 'MEG 2523',\n",
       " 'MEG 2521',\n",
       " 'MEG 2533',\n",
       " 'MEG 2532',\n",
       " 'MEG 2531',\n",
       " 'MEG 2543',\n",
       " 'MEG 2542',\n",
       " 'MEG 2541',\n",
       " 'MEG 2612',\n",
       " 'MEG 2613',\n",
       " 'MEG 2611',\n",
       " 'MEG 2623',\n",
       " 'MEG 2622',\n",
       " 'MEG 2621',\n",
       " 'MEG 2633',\n",
       " 'MEG 2632',\n",
       " 'MEG 2631',\n",
       " 'MEG 2642',\n",
       " 'MEG 2643',\n",
       " 'MEG 2641',\n",
       " 'STI 001',\n",
       " 'STI 002',\n",
       " 'STI 003',\n",
       " 'STI 004',\n",
       " 'STI 005',\n",
       " 'STI 006',\n",
       " 'STI 014',\n",
       " 'STI 015',\n",
       " 'STI 016',\n",
       " 'EEG 001',\n",
       " 'EEG 002',\n",
       " 'EEG 003',\n",
       " 'EEG 004',\n",
       " 'EEG 005',\n",
       " 'EEG 006',\n",
       " 'EEG 007',\n",
       " 'EEG 008',\n",
       " 'EEG 009',\n",
       " 'EEG 010',\n",
       " 'EEG 011',\n",
       " 'EEG 012',\n",
       " 'EEG 013',\n",
       " 'EEG 014',\n",
       " 'EEG 015',\n",
       " 'EEG 016',\n",
       " 'EEG 017',\n",
       " 'EEG 018',\n",
       " 'EEG 019',\n",
       " 'EEG 020',\n",
       " 'EEG 021',\n",
       " 'EEG 022',\n",
       " 'EEG 023',\n",
       " 'EEG 024',\n",
       " 'EEG 025',\n",
       " 'EEG 026',\n",
       " 'EEG 027',\n",
       " 'EEG 028',\n",
       " 'EEG 029',\n",
       " 'EEG 030',\n",
       " 'EEG 031',\n",
       " 'EEG 032',\n",
       " 'EEG 033',\n",
       " 'EEG 034',\n",
       " 'EEG 035',\n",
       " 'EEG 036',\n",
       " 'EEG 037',\n",
       " 'EEG 038',\n",
       " 'EEG 039',\n",
       " 'EEG 040',\n",
       " 'EEG 041',\n",
       " 'EEG 042',\n",
       " 'EEG 043',\n",
       " 'EEG 044',\n",
       " 'EEG 045',\n",
       " 'EEG 046',\n",
       " 'EEG 047',\n",
       " 'EEG 048',\n",
       " 'EEG 049',\n",
       " 'EEG 050',\n",
       " 'EEG 051',\n",
       " 'EEG 052',\n",
       " 'EEG 053',\n",
       " 'EEG 054',\n",
       " 'EEG 055',\n",
       " 'EEG 056',\n",
       " 'EEG 057',\n",
       " 'EEG 058',\n",
       " 'EEG 059',\n",
       " 'EEG 060',\n",
       " 'EOG 061']"
      ]
     },
     "execution_count": 12,
     "metadata": {},
     "output_type": "execute_result"
    }
   ],
   "source": [
    "raw.ch_names"
   ]
  },
  {
   "cell_type": "markdown",
   "metadata": {},
   "source": [
    "You can index it as a list"
   ]
  },
  {
   "cell_type": "code",
   "execution_count": 13,
   "metadata": {
    "collapsed": false
   },
   "outputs": [
    {
     "data": {
      "text/plain": [
       "'MEG 0432'"
      ]
     },
     "execution_count": 13,
     "metadata": {},
     "output_type": "execute_result"
    }
   ],
   "source": [
    "raw.ch_names[42]"
   ]
  },
  {
   "cell_type": "code",
   "execution_count": 14,
   "metadata": {
    "collapsed": false
   },
   "outputs": [
    {
     "data": {
      "text/plain": [
       "['MEG 0113',\n",
       " 'MEG 0112',\n",
       " 'MEG 0111',\n",
       " 'MEG 0122',\n",
       " 'MEG 0123',\n",
       " 'MEG 0121',\n",
       " 'MEG 0132',\n",
       " 'MEG 0133',\n",
       " 'MEG 0131',\n",
       " 'MEG 0143']"
      ]
     },
     "execution_count": 14,
     "metadata": {},
     "output_type": "execute_result"
    }
   ],
   "source": [
    "raw.ch_names[:10]"
   ]
  },
  {
   "cell_type": "markdown",
   "metadata": {},
   "source": [
    "## Accessing the data\n",
    "\n",
    "To access the data just use the [] syntax as to access any element of a list, dict etc."
   ]
  },
  {
   "cell_type": "code",
   "execution_count": 15,
   "metadata": {
    "collapsed": false
   },
   "outputs": [
    {
     "name": "stdout",
     "output_type": "stream",
     "text": [
      "(376, 10)\n",
      "(10,)\n"
     ]
    }
   ],
   "source": [
    "start, stop = 0, 10\n",
    "data, times = raw[:, start:stop]  # fetch all channels and the first 10 time points\n",
    "print(data.shape)\n",
    "print(times.shape)"
   ]
  },
  {
   "cell_type": "markdown",
   "metadata": {},
   "source": [
    "Note that it returns both the data and the times array."
   ]
  },
  {
   "cell_type": "markdown",
   "metadata": {},
   "source": [
    "# Visualizing raw data\n",
    "\n",
    "See http://martinos.org/mne/stable/auto_tutorials/plot_visualize_raw.html\n",
    "for more details.\n",
    "\n",
    "Let's look at how to:\n",
    "- browse data\n",
    "- turn On/Off the PCA/SSP projections\n",
    "- mark bad segments to obtained annotations\n",
    "- group channel by types\n",
    "- group channel by location"
   ]
  },
  {
   "cell_type": "code",
   "execution_count": 16,
   "metadata": {
    "collapsed": false
   },
   "outputs": [
    {
     "name": "stdout",
     "output_type": "stream",
     "text": [
      "Warning: Cannot change to a different GUI toolkit: qt. Using qt5 instead.\n"
     ]
    },
    {
     "data": {
      "image/png": "[encoded data removed]",
      "text/plain": [
       "<Figure size 1280x726.25 with 5 Axes>"
      ]
     },
     "execution_count": 16,
     "metadata": {},
     "output_type": "execute_result"
    }
   ],
   "source": [
    "%matplotlib qt\n",
    "\n",
    "raw.plot()"
   ]
  },
  {
   "cell_type": "code",
   "execution_count": 17,
   "metadata": {
    "collapsed": false
   },
   "outputs": [
    {
     "data": {
      "text/plain": [
       "<Annotations  |  0 segments , orig_time : 2002-12-03 19:01:10.720100>"
      ]
     },
     "execution_count": 17,
     "metadata": {},
     "output_type": "execute_result"
    }
   ],
   "source": [
    "raw.annotations"
   ]
  },
  {
   "cell_type": "markdown",
   "metadata": {},
   "source": [
    "Save a segment of 150s of raw data (MEG only):"
   ]
  },
  {
   "cell_type": "code",
   "execution_count": 18,
   "metadata": {
    "collapsed": true
   },
   "outputs": [],
   "source": [
    "picks_meg = mne.pick_types(raw.info, meg=True, eeg=False, eog=False,\n",
    "                           stim=False, exclude='bads')\n",
    "raw.save('sample_audvis_meg_raw.fif', tmin=0., tmax=150., picks=picks_meg, overwrite=True)"
   ]
  },
  {
   "cell_type": "markdown",
   "metadata": {},
   "source": [
    "### Filtering"
   ]
  },
  {
   "cell_type": "code",
   "execution_count": 19,
   "metadata": {
    "collapsed": false
   },
   "outputs": [
    {
     "name": "stdout",
     "output_type": "stream",
     "text": [
      "<Info | 19 non-empty fields\n",
      "    bads : list | MEG 2443, EEG 053\n",
      "    ch_names : list | MEG 0113, MEG 0112, MEG 0111, MEG 0122, MEG 0123, ...\n",
      "    chs : list | 376 items (GRAD: 204, MAG: 102, STIM: 9, EEG: 60, EOG: 1)\n",
      "    comps : list | 0 items\n",
      "    custom_ref_applied : bool | False\n",
      "    dev_head_t : Transform | 3 items\n",
      "    dig : list | 146 items (3 Cardinal, 4 HPI, 61 EEG, 78 Extra)\n",
      "    events : list | 0 items\n",
      "    file_id : dict | 4 items\n",
      "    highpass : float | 13.0 Hz\n",
      "    hpi_meas : list | 1 items\n",
      "    hpi_results : list | 1 items\n",
      "    lowpass : float | 30.0 Hz\n",
      "    meas_date : tuple | 2002-12-03 19:01:10 GMT\n",
      "    meas_id : dict | 4 items\n",
      "    nchan : int | 376\n",
      "    proc_history : list | 0 items\n",
      "    projs : list | PCA-v1: off, PCA-v2: off, PCA-v3: off, ...\n",
      "    sfreq : float | 150.15374755859375 Hz\n",
      "    acq_pars : NoneType\n",
      "    acq_stim : NoneType\n",
      "    ctf_head_t : NoneType\n",
      "    description : NoneType\n",
      "    dev_ctf_t : NoneType\n",
      "    experimenter : NoneType\n",
      "    gantry_angle : NoneType\n",
      "    hpi_subsystem : NoneType\n",
      "    kit_system_id : NoneType\n",
      "    line_freq : NoneType\n",
      "    proj_id : NoneType\n",
      "    proj_name : NoneType\n",
      "    subject_info : NoneType\n",
      "    xplotter_layout : NoneType\n",
      ">\n"
     ]
    }
   ],
   "source": [
    "raw_beta = mne.io.read_raw_fif(raw_fname, preload=True)  # reload data with preload for filtering\n",
    "\n",
    "# keep beta band\n",
    "raw_orig = raw_beta.copy()\n",
    "raw_beta.filter(13.0, 30.0)\n",
    "\n",
    "# save the result\n",
    "raw_beta.save('sample_audvis_beta_raw.fif', overwrite=True)\n",
    "\n",
    "print(raw_beta.info)  # note the update of raw.info['lowpass'] and raw.info['highpass']"
   ]
  },
  {
   "cell_type": "markdown",
   "metadata": {},
   "source": [
    "<div class=\"alert alert-success\">\n",
    "    <b>Exercise</b>:\n",
    "     <ul>\n",
    "    <li>Filter the raw data between 1Hz and 40Hz. Observe the absence of the slow drifts.</li>\n",
    "    </ul>\n",
    "</div>"
   ]
  },
  {
   "cell_type": "code",
   "execution_count": null,
   "metadata": {
    "collapsed": false
   },
   "outputs": [
    {
     "name": "stdout",
     "output_type": "stream",
     "text": [
      "Warning: Cannot change to a different GUI toolkit: qt. Using qt5 instead.\n"
     ]
    }
   ],
   "source": [
    " # TODO\n",
    "\n",
    "%matplotlib qt\n"
   ]
  },
  {
   "cell_type": "markdown",
   "metadata": {},
   "source": [
    "<div class=\"alert alert-success\">\n",
    "    <b>Exercise</b>:\n",
    "     <ul>\n",
    "    <li>Plot the 10 first seconds of stimutation channel just using matplotlib.</li>\n",
    "    </ul>\n",
    "</div>\n",
    "\n",
    "Tips:\n",
    "\n",
    "- Pick the stim channel using `mne.pick_types`\n",
    "- Get the data for this channel\n",
    "- Plot it using `plt.plot`"
   ]
  },
  {
   "cell_type": "code",
   "execution_count": null,
   "metadata": {
    "collapsed": true
   },
   "outputs": [],
   "source": [
    " # TODO\n"
   ]
  },
  {
   "cell_type": "markdown",
   "metadata": {},
   "source": [
    "## Define and read epochs"
   ]
  },
  {
   "cell_type": "markdown",
   "metadata": {},
   "source": [
    "First extract events:"
   ]
  },
  {
   "cell_type": "code",
   "execution_count": null,
   "metadata": {
    "collapsed": false
   },
   "outputs": [
    {
     "name": "stdout",
     "output_type": "stream",
     "text": [
      "319 events found\n",
      "Event IDs: [ 1  2  3  4  5 32]\n"
     ]
    }
   ],
   "source": [
    "events = mne.find_events(raw, stim_channel='STI 014', verbose=True)"
   ]
  },
  {
   "cell_type": "code",
   "execution_count": null,
   "metadata": {
    "collapsed": false
   },
   "outputs": [
    {
     "data": {
      "text/plain": [
       "(319, 3)"
      ]
     },
     "execution_count": 23,
     "metadata": {},
     "output_type": "execute_result"
    }
   ],
   "source": [
    "events.shape"
   ]
  },
  {
   "cell_type": "code",
   "execution_count": null,
   "metadata": {
    "collapsed": true
   },
   "outputs": [],
   "source": [
    "# See parameters to fine tune event detection, e.g. consecutive non-zero\n",
    "# mne.find_events?"
   ]
  },
  {
   "cell_type": "code",
   "execution_count": null,
   "metadata": {
    "collapsed": false
   },
   "outputs": [
    {
     "name": "stdout",
     "output_type": "stream",
     "text": [
      "[[6994    0    2]\n",
      " [7086    0    3]\n",
      " [7192    0    1]\n",
      " [7304    0    4]\n",
      " [7413    0    2]]\n"
     ]
    }
   ],
   "source": [
    "print(events[:5])  # events is a 2d array, (time, previous, trigger)"
   ]
  },
  {
   "cell_type": "code",
   "execution_count": null,
   "metadata": {
    "collapsed": false
   },
   "outputs": [
    {
     "data": {
      "text/plain": [
       "73"
      ]
     },
     "execution_count": 26,
     "metadata": {},
     "output_type": "execute_result"
    }
   ],
   "source": [
    "len(events[events[:, 2] == 2])"
   ]
  },
  {
   "cell_type": "code",
   "execution_count": null,
   "metadata": {
    "collapsed": false
   },
   "outputs": [
    {
     "data": {
      "text/plain": [
       "319"
      ]
     },
     "execution_count": 27,
     "metadata": {},
     "output_type": "execute_result"
    }
   ],
   "source": [
    "len(events)"
   ]
  },
  {
   "cell_type": "markdown",
   "metadata": {},
   "source": [
    "Let's visualize the paradigm:"
   ]
  },
  {
   "cell_type": "code",
   "execution_count": null,
   "metadata": {
    "collapsed": true
   },
   "outputs": [],
   "source": [
    "fig = mne.viz.plot_events(events, raw.info['sfreq']);"
   ]
  },
  {
   "cell_type": "markdown",
   "metadata": {},
   "source": [
    "Events are stored as 2D numpy array where the first column is the time instant and the last one is the event number. It is therefore easy to manipulate."
   ]
  },
  {
   "cell_type": "code",
   "execution_count": null,
   "metadata": {
    "collapsed": false
   },
   "outputs": [
    {
     "name": "stdout",
     "output_type": "stream",
     "text": [
      "[[6994    0    1]\n",
      " [7086    0    3]\n",
      " [7192    0    1]\n",
      " [7304    0    3]\n",
      " [7413    0    1]]\n",
      "[[6994    0    2]\n",
      " [7086    0    3]\n",
      " [7192    0    1]\n",
      " [7304    0    4]\n",
      " [7413    0    2]]\n"
     ]
    }
   ],
   "source": [
    "events_new = events.copy()\n",
    "events_new[events_new[:, 2] == 2, 2] = 1  # MATLAB- and R-like syntax\n",
    "events_new[events_new[:, 2] == 4, 2] = 3\n",
    "print(events_new[:5])\n",
    "print(events[:5])"
   ]
  },
  {
   "cell_type": "code",
   "execution_count": null,
   "metadata": {
    "collapsed": true
   },
   "outputs": [],
   "source": [
    "events = events[events[:, 2] < 5]\n",
    "fig = mne.viz.plot_events(events, raw.info['sfreq']);"
   ]
  },
  {
   "cell_type": "markdown",
   "metadata": {},
   "source": [
    "For event trigger and conditions we use a Python dictionary with keys that contain \"/\" for grouping sub-conditions"
   ]
  },
  {
   "cell_type": "code",
   "execution_count": null,
   "metadata": {
    "collapsed": true
   },
   "outputs": [],
   "source": [
    "event_id = {\"visual/left\": 3, \"visual/right\": 4, \"auditory/left\": 1, \"auditory/right\": 2}"
   ]
  },
  {
   "cell_type": "code",
   "execution_count": null,
   "metadata": {
    "collapsed": false
   },
   "outputs": [
    {
     "data": {
      "image/png": "[encoded data removed]",
      "text/plain": [
       "<Figure size 432x288 with 1 Axes>"
      ]
     },
     "metadata": {
      "needs_background": "light"
     },
     "output_type": "display_data"
    }
   ],
   "source": [
    "%matplotlib inline\n",
    "fig = mne.viz.plot_events(events, raw.info['sfreq'], event_id=event_id);"
   ]
  },
  {
   "cell_type": "markdown",
   "metadata": {},
   "source": [
    "Define epochs parameters:"
   ]
  },
  {
   "cell_type": "code",
   "execution_count": null,
   "metadata": {
    "collapsed": true
   },
   "outputs": [],
   "source": [
    "tmin = -0.2  # start of each epoch (200ms before the trigger)\n",
    "tmax = 0.5  # end of each epoch (500ms after the trigger)"
   ]
  },
  {
   "cell_type": "markdown",
   "metadata": {},
   "source": [
    "Define the baseline period:"
   ]
  },
  {
   "cell_type": "code",
   "execution_count": null,
   "metadata": {
    "collapsed": true
   },
   "outputs": [],
   "source": [
    "baseline = (None, 0)  # means from the first instant to t = 0"
   ]
  },
  {
   "cell_type": "markdown",
   "metadata": {},
   "source": [
    "Define peak-to-peak (amplitude range) rejection parameters for gradiometers, magnetometers and EOG:"
   ]
  },
  {
   "cell_type": "code",
   "execution_count": null,
   "metadata": {
    "collapsed": true
   },
   "outputs": [],
   "source": [
    "reject = dict(grad=4000e-13, mag=4e-12, eog=150e-6)  # this can be highly data dependent"
   ]
  },
  {
   "cell_type": "markdown",
   "metadata": {},
   "source": [
    "<div class=\"alert alert-info\">\n",
    "    <b>REMARK</b>:\n",
    "     <ul>\n",
    "    <li>The <a href=\"https://autoreject.github.io/\">autoreject</a> project aims to solve this problem of reject parameter setting. See the <a href=\"https://www.sciencedirect.com/science/article/pii/S1053811917305013\">paper</a>.</li>\n",
    "    </ul>\n",
    "</div>"
   ]
  },
  {
   "cell_type": "code",
   "execution_count": null,
   "metadata": {
    "collapsed": true
   },
   "outputs": [],
   "source": [
    "# we are picky again, this time with EOG\n",
    "picks_meg = mne.pick_types(raw.info, meg=True, eeg=False, eog=True,\n",
    "                           stim=False, exclude='bads')\n",
    "# we start by looking at magnetometer and gradiometer signals"
   ]
  },
  {
   "cell_type": "markdown",
   "metadata": {},
   "source": [
    "Extract epochs:"
   ]
  },
  {
   "cell_type": "code",
   "execution_count": null,
   "metadata": {
    "collapsed": true
   },
   "outputs": [],
   "source": [
    "epochs = mne.Epochs(raw, events, event_id, tmin, tmax, proj=True,\n",
    "                    picks=picks_meg, baseline=baseline, reject=reject)"
   ]
  },
  {
   "cell_type": "code",
   "execution_count": null,
   "metadata": {
    "collapsed": false
   },
   "outputs": [
    {
     "name": "stdout",
     "output_type": "stream",
     "text": [
      "<Epochs  |   288 events (good & bad), -0.199795 - 0.499488 sec, baseline [None, 0], ~3.5 MB, data not loaded,\n",
      " 'auditory/left': 72\n",
      " 'auditory/right': 73\n",
      " 'visual/left': 73\n",
      " 'visual/right': 70>\n"
     ]
    }
   ],
   "source": [
    "print(epochs)"
   ]
  },
  {
   "cell_type": "code",
   "execution_count": null,
   "metadata": {
    "collapsed": false
   },
   "outputs": [
    {
     "data": {
      "text/plain": [
       "<Epochs  |   239 events (all good), -0.199795 - 0.499488 sec, baseline [None, 0], ~3.5 MB, data not loaded,\n",
       " 'auditory/left': 55\n",
       " 'auditory/right': 61\n",
       " 'visual/left': 67\n",
       " 'visual/right': 56>"
      ]
     },
     "execution_count": 39,
     "metadata": {},
     "output_type": "execute_result"
    }
   ],
   "source": [
    "epochs.drop_bad()  # remove bad epochs based on reject"
   ]
  },
  {
   "cell_type": "code",
   "execution_count": null,
   "metadata": {
    "collapsed": false
   },
   "outputs": [
    {
     "data": {
      "text/plain": [
       "<Epochs  |   239 events (all good), -0.199795 - 0.499488 sec, baseline [None, 0], ~62.7 MB, data loaded,\n",
       " 'auditory/left': 55\n",
       " 'auditory/right': 61\n",
       " 'visual/left': 67\n",
       " 'visual/right': 56>"
      ]
     },
     "execution_count": 40,
     "metadata": {},
     "output_type": "execute_result"
    }
   ],
   "source": [
    "epochs.load_data()  # load data in memory"
   ]
  },
  {
   "cell_type": "markdown",
   "metadata": {},
   "source": [
    "Explore the epochs namespace\n",
    "\n",
    "Hit ``epochs.<TAB>``"
   ]
  },
  {
   "cell_type": "code",
   "execution_count": null,
   "metadata": {
    "collapsed": true
   },
   "outputs": [],
   "source": []
  },
  {
   "cell_type": "markdown",
   "metadata": {},
   "source": [
    "### Visualization Epochs\n",
    "\n",
    "See [this page](https://mne-tools.github.io/stable/auto_tutorials/plot_visualize_epochs.html) for options on how to visualize epochs.\n",
    "\n",
    "Here is just an illustration to make a so-called ERP/ERF image:"
   ]
  },
  {
   "cell_type": "code",
   "execution_count": null,
   "metadata": {
    "collapsed": false
   },
   "outputs": [
    {
     "data": {
      "image/png": "[encoded data removed]",
      "text/plain": [
       "<Figure size 432x288 with 4 Axes>"
      ]
     },
     "metadata": {
      "needs_background": "light"
     },
     "output_type": "display_data"
    },
    {
     "data": {
      "text/plain": [
       "[<Figure size 432x288 with 4 Axes>]"
      ]
     },
     "execution_count": 41,
     "metadata": {},
     "output_type": "execute_result"
    }
   ],
   "source": [
    "epochs.plot_image(picks=278, cmap='interactive', sigma=1., vmin=-250, vmax=250)"
   ]
  },
  {
   "cell_type": "code",
   "execution_count": null,
   "metadata": {
    "collapsed": false
   },
   "outputs": [
    {
     "name": "stdout",
     "output_type": "stream",
     "text": [
      "Warning: Cannot change to a different GUI toolkit: qt. Using qt5 instead.\n"
     ]
    }
   ],
   "source": [
    "%matplotlib qt\n",
    "\n",
    "epochs.plot(block=True)  # Google Summer of code 2015 with Jaakko Leppäkangas"
   ]
  },
  {
   "cell_type": "markdown",
   "metadata": {},
   "source": [
    "### The epochs object is your MNE swiss army knife for processing segmented data!\n",
    "\n",
    "- specialized methods for diagnostic plotting of data\n",
    "- averaging\n",
    "- saving\n",
    "- manipulating data, e.g., rearranging or deleting single trials, resampling"
   ]
  },
  {
   "cell_type": "markdown",
   "metadata": {},
   "source": [
    "## More diagnostic plotting"
   ]
  },
  {
   "cell_type": "code",
   "execution_count": null,
   "metadata": {
    "collapsed": true
   },
   "outputs": [],
   "source": [
    "%matplotlib inline\n",
    "# epochs.drop_bad()\n",
    "epochs.plot_drop_log();"
   ]
  },
  {
   "cell_type": "code",
   "execution_count": null,
   "metadata": {
    "collapsed": true
   },
   "outputs": [],
   "source": [
    "for drop_log in epochs.drop_log[:20]:\n",
    "    print(drop_log)"
   ]
  },
  {
   "cell_type": "markdown",
   "metadata": {},
   "source": [
    "## basic IO "
   ]
  },
  {
   "cell_type": "markdown",
   "metadata": {},
   "source": [
    "The standard scenario is saving the epochs into .fif file together with all the header data."
   ]
  },
  {
   "cell_type": "code",
   "execution_count": null,
   "metadata": {
    "collapsed": true
   },
   "outputs": [],
   "source": [
    "epochs.save('sample-epo.fif')  # note that epochs are save in files ending with -epo.fif"
   ]
  },
  {
   "cell_type": "code",
   "execution_count": null,
   "metadata": {
    "collapsed": true
   },
   "outputs": [],
   "source": [
    "data = epochs.get_data()\n",
    "data.shape"
   ]
  },
  {
   "cell_type": "markdown",
   "metadata": {},
   "source": [
    "Scipy also supports reading and writing of matlab files. You can save your single trials with:"
   ]
  },
  {
   "cell_type": "code",
   "execution_count": null,
   "metadata": {
    "collapsed": true
   },
   "outputs": [],
   "source": [
    "from scipy import io\n",
    "epochs_data = epochs.get_data()\n",
    "print(epochs_data.shape)\n",
    "io.savemat('epochs_data.mat', dict(epochs_data=epochs_data),\n",
    "           oned_as='row')"
   ]
  },
  {
   "cell_type": "markdown",
   "metadata": {},
   "source": [
    "### Average the epochs to get ERF/ERP and plot it!"
   ]
  },
  {
   "cell_type": "code",
   "execution_count": null,
   "metadata": {
    "collapsed": true
   },
   "outputs": [],
   "source": [
    "evoked = epochs.average()\n",
    "print(evoked)"
   ]
  },
  {
   "cell_type": "code",
   "execution_count": null,
   "metadata": {
    "collapsed": true
   },
   "outputs": [],
   "source": [
    "%matplotlib qt\n",
    "\n",
    "evoked.plot();"
   ]
  },
  {
   "cell_type": "markdown",
   "metadata": {},
   "source": [
    "We can also show sensor position as line color:"
   ]
  },
  {
   "cell_type": "code",
   "execution_count": null,
   "metadata": {
    "collapsed": true
   },
   "outputs": [],
   "source": [
    "epochs"
   ]
  },
  {
   "cell_type": "code",
   "execution_count": null,
   "metadata": {
    "collapsed": true
   },
   "outputs": [],
   "source": [
    "%matplotlib inline\n",
    "\n",
    "ep = epochs['right']\n",
    "ep.average().plot(spatial_colors=True);"
   ]
  },
  {
   "cell_type": "code",
   "execution_count": null,
   "metadata": {
    "collapsed": true
   },
   "outputs": [],
   "source": [
    "evoked.plot(spatial_colors=True);  # note the legend"
   ]
  },
  {
   "cell_type": "code",
   "execution_count": null,
   "metadata": {
    "collapsed": true
   },
   "outputs": [],
   "source": [
    "raw.plot_sensors(ch_type='eeg');"
   ]
  },
  {
   "cell_type": "code",
   "execution_count": null,
   "metadata": {
    "collapsed": true
   },
   "outputs": [],
   "source": [
    "evoked.plot_topomap(ch_type='mag', times=[0.05, 0.1, 0.15]);"
   ]
  },
  {
   "cell_type": "code",
   "execution_count": null,
   "metadata": {
    "collapsed": true
   },
   "outputs": [],
   "source": [
    "%matplotlib inline\n",
    "evoked.plot_topomap(ch_type='grad', times=[0.05, 0.1, 0.15]);"
   ]
  },
  {
   "cell_type": "code",
   "execution_count": null,
   "metadata": {
    "collapsed": true
   },
   "outputs": [],
   "source": [
    "# pure topography plots called topomap in the MNE jargon\n",
    "for ch_type in ('mag', 'grad'):\n",
    "    evoked.plot_topomap(times=np.linspace(0.05, 0.15, 10), ch_type=ch_type);"
   ]
  },
  {
   "cell_type": "markdown",
   "metadata": {},
   "source": [
    "Topoplot and time series can also be shown in one single plot:"
   ]
  },
  {
   "cell_type": "code",
   "execution_count": null,
   "metadata": {
    "collapsed": true
   },
   "outputs": [],
   "source": [
    "evoked.plot_joint();"
   ]
  },
  {
   "cell_type": "code",
   "execution_count": null,
   "metadata": {
    "collapsed": true
   },
   "outputs": [],
   "source": [
    "evoked.plot_joint(times=[0.1]);"
   ]
  },
  {
   "cell_type": "markdown",
   "metadata": {},
   "source": [
    "## Accessing and indexing epochs by condition\n",
    "\n",
    "Epochs can be indexed by integers or slices to select a subset of epochs but also with strings to select by conditions `epochs[condition]`"
   ]
  },
  {
   "cell_type": "code",
   "execution_count": null,
   "metadata": {
    "collapsed": true
   },
   "outputs": [],
   "source": [
    "epochs[0]  # first epoch"
   ]
  },
  {
   "cell_type": "code",
   "execution_count": null,
   "metadata": {
    "collapsed": true
   },
   "outputs": [],
   "source": [
    "epochs[:10]  # first 10 epochs"
   ]
  },
  {
   "cell_type": "code",
   "execution_count": null,
   "metadata": {
    "collapsed": true
   },
   "outputs": [],
   "source": [
    "epochs['visual/left']  # epochs for the left visual condition"
   ]
  },
  {
   "cell_type": "code",
   "execution_count": null,
   "metadata": {
    "collapsed": true
   },
   "outputs": [],
   "source": [
    "# remember ...\n",
    "event_id"
   ]
  },
  {
   "cell_type": "markdown",
   "metadata": {},
   "source": [
    "In event_id, \"/\" selects conditions in a hierarchical way, e.g. here, \"auditory\" vs. \"visual\", \"left\" vs. \"right\", and MNE can select them individually"
   ]
  },
  {
   "cell_type": "code",
   "execution_count": null,
   "metadata": {
    "collapsed": true
   },
   "outputs": [],
   "source": [
    "epochs['auditory/left'].average().\\\n",
    "    pick_types(meg='grad').crop(None, 0.2).plot(spatial_colors=True)"
   ]
  },
  {
   "cell_type": "code",
   "execution_count": null,
   "metadata": {
    "collapsed": true
   },
   "outputs": [],
   "source": [
    "epochs['visual']  # epochs for the visual condition (either left or right)"
   ]
  },
  {
   "cell_type": "markdown",
   "metadata": {},
   "source": [
    "To access the data of some epochs use the get_data method."
   ]
  },
  {
   "cell_type": "code",
   "execution_count": null,
   "metadata": {
    "collapsed": true
   },
   "outputs": [],
   "source": [
    "epochs_data = epochs.get_data()\n",
    "type(epochs_data), epochs_data.shape"
   ]
  },
  {
   "cell_type": "markdown",
   "metadata": {},
   "source": [
    "`epochs_data` is a 3D array of dimension (239 epochs, 306 channels, 106 time instants).\n",
    "\n",
    "Apply this to visualize all the conditions in `event_id`"
   ]
  },
  {
   "cell_type": "code",
   "execution_count": null,
   "metadata": {
    "collapsed": true
   },
   "outputs": [],
   "source": [
    "for condition in event_id:\n",
    "    epochs[condition].average().plot_topomap(times=[0.1, 0.15], title=condition);"
   ]
  },
  {
   "cell_type": "markdown",
   "metadata": {},
   "source": [
    "## Write evoked data to disk"
   ]
  },
  {
   "cell_type": "code",
   "execution_count": null,
   "metadata": {
    "collapsed": true
   },
   "outputs": [],
   "source": [
    "evoked.save('sample-ave.fif')  # note that the file for evoked ends with -ave.fif"
   ]
  },
  {
   "cell_type": "markdown",
   "metadata": {},
   "source": [
    "or to write multiple conditions in 1 file"
   ]
  },
  {
   "cell_type": "code",
   "execution_count": null,
   "metadata": {
    "collapsed": true
   },
   "outputs": [],
   "source": [
    "evokeds_list = [epochs[k].average() for k in event_id]  # get evokeds\n",
    "mne.write_evokeds('sample-ave.fif', evokeds_list)"
   ]
  },
  {
   "cell_type": "markdown",
   "metadata": {},
   "source": [
    "### Reading evoked from disk\n",
    "\n",
    "It is also possible to read evoked data stored in a fif file:"
   ]
  },
  {
   "cell_type": "code",
   "execution_count": null,
   "metadata": {
    "collapsed": true
   },
   "outputs": [],
   "source": [
    "evoked_fname = data_path + '/MEG/sample/sample_audvis-ave.fif'\n",
    "evoked1 = mne.read_evokeds(evoked_fname, condition=0, baseline=(None, 0), proj=True)"
   ]
  },
  {
   "cell_type": "markdown",
   "metadata": {},
   "source": [
    "Or another one stored in the same file:"
   ]
  },
  {
   "cell_type": "code",
   "execution_count": null,
   "metadata": {
    "collapsed": true
   },
   "outputs": [],
   "source": [
    "evoked2 = mne.read_evokeds(evoked_fname, condition=1,\n",
    "                           baseline=(None, 0), proj=True)"
   ]
  },
  {
   "cell_type": "markdown",
   "metadata": {},
   "source": [
    "Or give the explicit name of the averaged condition:"
   ]
  },
  {
   "cell_type": "code",
   "execution_count": null,
   "metadata": {
    "collapsed": true
   },
   "outputs": [],
   "source": [
    "evoked3 = mne.read_evokeds(evoked_fname, condition='Left Auditory',\n",
    "                           baseline=(None, 0), proj=True)"
   ]
  },
  {
   "cell_type": "markdown",
   "metadata": {},
   "source": [
    "**Remark:** Did you notice that you can apply some preprocessing on reading the evokeds from disk?"
   ]
  },
  {
   "cell_type": "markdown",
   "metadata": {},
   "source": [
    "### Compute a contrast:"
   ]
  },
  {
   "cell_type": "code",
   "execution_count": null,
   "metadata": {
    "collapsed": true
   },
   "outputs": [],
   "source": [
    "contrast = mne.combine_evoked([evokeds[\"visual/left\"],\n",
    "                               evokeds[\"visual/right\"]], [0.5, -0.5])"
   ]
  },
  {
   "cell_type": "markdown",
   "metadata": {},
   "source": [
    "Note that this combines evokeds taking into account the number of averaged epochs (to scale the noise variance)"
   ]
  },
  {
   "cell_type": "code",
   "execution_count": null,
   "metadata": {
    "collapsed": true
   },
   "outputs": [],
   "source": [
    "print(evokeds[\"visual/left\"].nave)  # average of 67 epochs\n",
    "print(contrast.nave)  # average of 123 epochs"
   ]
  },
  {
   "cell_type": "code",
   "execution_count": null,
   "metadata": {
    "collapsed": true
   },
   "outputs": [],
   "source": [
    "print(contrast)"
   ]
  },
  {
   "cell_type": "code",
   "execution_count": null,
   "metadata": {
    "collapsed": true
   },
   "outputs": [],
   "source": [
    "fig = contrast.plot_joint()"
   ]
  },
  {
   "cell_type": "markdown",
   "metadata": {},
   "source": [
    "### Save your figure as pdf"
   ]
  },
  {
   "cell_type": "code",
   "execution_count": null,
   "metadata": {
    "collapsed": true
   },
   "outputs": [],
   "source": [
    "%matplotlib qt\n",
    "import numpy as np\n",
    "contrast.plot_topomap(times=np.linspace(0.05, 0.15, 5), ch_type='mag')\n",
    "plt.savefig('toto.pdf')\n",
    "!open toto.pdf  # works only on a mac"
   ]
  },
  {
   "cell_type": "markdown",
   "metadata": {},
   "source": [
    "<div class=\"alert alert-success\">\n",
    "    <b>EXERCISE</b>:\n",
    "     <ul>\n",
    "      <li>Extract Epochs restricted to magnetometers on unfiltered data (sample_audvis_raw.fif)</li>\n",
    "    <li>Construct epochs with a whole-epoch baseline. Then, filter raw data at 1 Hz, construct epochs from that. Compare the resulting Evokeds (filter vs. baseline)</li>\n",
    "    <li>Plot the difference between all *visual* and all *auditory* stimulus presentations</li>\n",
    "    <li>Recompute everything for EEG</li>\n",
    "    </ul>\n",
    "</div>"
   ]
  },
  {
   "cell_type": "code",
   "execution_count": null,
   "metadata": {
    "collapsed": true
   },
   "outputs": [],
   "source": [
    "%matplotlib qt\n",
    "evoked.plot()"
   ]
  },
  {
   "cell_type": "code",
   "execution_count": null,
   "metadata": {
    "collapsed": true
   },
   "outputs": [],
   "source": []
  },
  {
   "cell_type": "markdown",
   "metadata": {},
   "source": [
    "## ADVANCED: Some Python + MNE Kung Fu to plot selected channels and conditions"
   ]
  },
  {
   "cell_type": "code",
   "execution_count": null,
   "metadata": {
    "collapsed": true
   },
   "outputs": [],
   "source": [
    "sensor = \"MEG 1312\"\n",
    "\n",
    "evokeds = {k:epochs[k].average() for k in event_id}  # funny expression, no? Google \"dict comprehension\"\n",
    "\n",
    "for condition, evoked in evokeds.items():  # that's what dictionaries are good for, looping!\n",
    "    data = evoked.copy().pick_channels([sensor]).data[0]\n",
    "    plt.plot(evoked.times, data * 1e13, label=condition)\n",
    "\n",
    "plt.legend(loc=\"lower left\")\n",
    "plt.ylabel(\"fT/m\")\n",
    "plt.xlabel(\"time (s)\")\n",
    "plt.suptitle(\"MEG at electrode {}\".format(sensor));"
   ]
  },
  {
   "cell_type": "markdown",
   "metadata": {},
   "source": [
    "## ADVANCED: Customize your plots\n",
    "\n",
    "What have every text in magenta?"
   ]
  },
  {
   "cell_type": "code",
   "execution_count": null,
   "metadata": {
    "collapsed": true
   },
   "outputs": [],
   "source": [
    "fig = evoked.plot(show=False)  # butterfly plots\n",
    "fig.subplots_adjust(hspace=1.0)\n",
    "for text in fig.findobj(mpl.text.Text):\n",
    "    text.set_fontsize(8)\n",
    "    text.set_color('blue')\n",
    "for ax in fig.get_axes():\n",
    "    ax.axvline(0., color='red')\n",
    "fig.savefig('plot_erf.pdf');"
   ]
  }
 ],
 "metadata": {
  "kernelspec": {
   "display_name": "Python 2",
   "language": "python",
   "name": "python2"
  },
  "language_info": {
   "codemirror_mode": {
    "name": "ipython",
    "version": 2
   },
   "file_extension": ".py",
   "mimetype": "text/x-python",
   "name": "python",
   "nbconvert_exporter": "python",
   "pygments_lexer": "ipython2",
   "version": "2.7.6"
  },
  "widgets": {
   "state": {},
   "version": "1.1.2"
  }
 },
 "nbformat": 4,
 "nbformat_minor": 1
}
